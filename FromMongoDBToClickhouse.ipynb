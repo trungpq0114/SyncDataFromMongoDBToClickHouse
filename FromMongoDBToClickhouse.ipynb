{
 "cells": [
  {
   "cell_type": "code",
   "execution_count": null,
   "id": "5ded71d6-9269-4ee0-aab2-3e448fd3342c",
   "metadata": {},
   "outputs": [],
   "source": [
    "# Thư viện\n",
    "from clickhouse_driver import Client\n",
    "from pyspark.sql import SparkSession\n",
    "import pandas as pd\n",
    "import numpy as np\n",
    "import pymongo\n",
    "from bson.son import SON"
   ]
  },
  {
   "cell_type": "code",
   "execution_count": null,
   "id": "470549f0-74a8-40d0-bdb8-c1f0333488a3",
   "metadata": {},
   "outputs": [],
   "source": [
    "# Kết nối Spark\n",
    "spark = SparkSession.builder.master('spark://10.56.10.100:7077').config('spark.cores.max', 8).getOrCreate()"
   ]
  },
  {
   "cell_type": "code",
   "execution_count": null,
   "id": "38d2c3e1-cf82-4d3e-a959-e749c4d5dbc9",
   "metadata": {},
   "outputs": [],
   "source": [
    "# Bảng muốn sync trên MongoDB\n",
    "['ChiDinhDichVu'\n",
    " ,'ChiDinhDichVu_PhauThuatThuThuat'\n",
    " ,'HoaDon'\n",
    " ,'HoaDon_ChiTietHoaDon'\n",
    " ,'ThongTinChuyenTuyen'\n",
    " ,'ThongTinChuyenTuyen_DichVuKemTheo'\n",
    " ,'ThongTinDieuTri'\n",
    " ,'ThongTinDieuTri_ThongTinDieuTriKhoa'\n",
    " ,'ThongTinDieuTri_ThongTinDieuTriKhoa_ThongTinDieuTriPhong']"
   ]
  },
  {
   "cell_type": "code",
   "execution_count": null,
   "id": "493b8d35-7d31-42b7-9efd-c79aff977ab1",
   "metadata": {},
   "outputs": [],
   "source": [
    "# Input MongoDB\n",
    "mgUri = 'mongodb://versatica:***********@*********:27017/?authSource=admin&authMechanism=SCRAM-SHA-256'\n",
    "host = \"*******\"\n",
    "mgDatabase = 'phutho'\n",
    "rawCollection = 'ChiDinhDichVu'\n",
    "mgCollection = 'newdata_' + rawCollection\n",
    "# Input ClickHouse\n",
    "chUrl=\"jdbc:clickhouse://*********:8123\"\n",
    "chUser=\"default\"\n",
    "chPassword=\"@!\"\n",
    "chTable = \"STAGING_\" + rawCollection\n",
    "chDatabase = \"new_vietsens\""
   ]
  },
  {
   "cell_type": "code",
   "execution_count": null,
   "id": "d251a996-314c-4eca-8c41-75f2b14d6798",
   "metadata": {},
   "outputs": [],
   "source": [
    "clickhouse = {\n",
    "    'url': f'{chUrl}/{chDatabase}',\n",
    "    'user': chUser,\n",
    "    'password': chPassword,\n",
    "    'dbtable' : chTable,\n",
    "    'isolationLevel' : 'NONE'\n",
    "}"
   ]
  },
  {
   "cell_type": "code",
   "execution_count": null,
   "id": "c52ea510-0ea8-43ec-b887-563947d13ec9",
   "metadata": {},
   "outputs": [],
   "source": [
    "client = Client(host = host,\n",
    "               port = \"9000\",\n",
    "               user = chUser,\n",
    "               password = chPassword)"
   ]
  },
  {
   "cell_type": "code",
   "execution_count": null,
   "id": "e21b768e-5448-483d-abb9-28b1be1963d5",
   "metadata": {},
   "outputs": [],
   "source": [
    "# Kết nối đến Collection\n",
    "collection_df = spark.read.format(\"mongodb\").option(\"connection.uri\", mgUri).option('database', mgDatabase).option('collection', mgCollection).load()"
   ]
  },
  {
   "cell_type": "markdown",
   "id": "de52d494-ccd0-4eaf-bb97-a917e0091774",
   "metadata": {},
   "source": [
    "### Danh sách cột trên Collection"
   ]
  },
  {
   "cell_type": "code",
   "execution_count": null,
   "id": "59dc3b67-1e83-4699-b5df-eb1a5c0ea5ff",
   "metadata": {},
   "outputs": [],
   "source": [
    "class dataFrameSpark:\n",
    "    def __init__(self,df):\n",
    "        self.df = df\n",
    "        listColumnName = []\n",
    "        listColumnType = []\n",
    "        for field in df.schema.fields:\n",
    "            listColumnName.append(field.name)\n",
    "            listColumnType.append(field.dataType)\n",
    "        self.listColumnName = listColumnName\n",
    "        self.listColumnType = listColumnType"
   ]
  },
  {
   "cell_type": "code",
   "execution_count": null,
   "id": "bbb0f995-9df4-4f61-801f-de79a46a19dd",
   "metadata": {},
   "outputs": [],
   "source": [
    "newDataDF = dataFrameSpark(collection_df)"
   ]
  },
  {
   "cell_type": "markdown",
   "id": "adc4b124-9083-4840-a4ce-3830514df456",
   "metadata": {},
   "source": [
    "### Danh sách cột trên Clickhouse"
   ]
  },
  {
   "cell_type": "code",
   "execution_count": null,
   "id": "aa0d9783-c447-4860-b2b2-ac8efa384d0e",
   "metadata": {},
   "outputs": [],
   "source": [
    "# Bảng Mapping kiểu dữ liệu từ NoSQL sang SQL\n",
    "DIM_type = pd.DataFrame({'mongoType':['StringType()','DoubleType()','LongType()','TimestampType()','IntegerType()']\n",
    "                           , 'type':['String','Float64','Int64','DateTime','Int64']}).astype(str)"
   ]
  },
  {
   "cell_type": "code",
   "execution_count": null,
   "id": "0563b368-cd2e-4f37-829e-668f544656a0",
   "metadata": {},
   "outputs": [],
   "source": [
    "# Tên cột và kiểu dữ liệu trên Mongo\n",
    "mgTableInfo = pd.DataFrame({'name':newDataDF.listColumnName\n",
    "                           , 'mongoType':newDataDF.listColumnType}).astype(str)"
   ]
  },
  {
   "cell_type": "code",
   "execution_count": null,
   "id": "05ccf4bb-2dc2-447e-8905-a4318384985a",
   "metadata": {},
   "outputs": [],
   "source": [
    "newDataDF.df.printSchema()"
   ]
  },
  {
   "cell_type": "code",
   "execution_count": null,
   "id": "c3d9c001-3941-48a4-9431-5fa391b1e6ce",
   "metadata": {},
   "outputs": [],
   "source": [
    "# Tên cột và kiểu dữ liệu trên ClickHouse\n",
    "chTableInfo = pd.DataFrame(client.execute( f'''DESCRIBE TABLE {chDatabase}.{chTable}'''), columns = ['name','clickhouseType','default_type','default_expression','comment','codec_exression)','ttl_expression']).astype(str)\n",
    "chTableInfo"
   ]
  },
  {
   "cell_type": "code",
   "execution_count": null,
   "id": "7e44c11a-fe0b-4a40-8b25-d334e049e4a5",
   "metadata": {},
   "outputs": [],
   "source": [
    "# Mapping\n",
    "mgTableInfo = pd.merge(mgTableInfo,chTableInfo,on='name',how='left')\n",
    "mgTableInfo"
   ]
  },
  {
   "cell_type": "code",
   "execution_count": null,
   "id": "ee23ccfa-f2e1-4f6c-a47a-a8472593af11",
   "metadata": {},
   "outputs": [],
   "source": [
    "# Bỏ cột rỗng\n",
    "nullTypeList = mgTableInfo[mgTableInfo['mongoType'] == 'NullType()']\n",
    "nullTypeList\n",
    "for index, row in nullTypeList.iterrows():\n",
    "    print(row['name'])\n",
    "    newDataDF.df = newDataDF.df.drop(row['name'])"
   ]
  },
  {
   "cell_type": "code",
   "execution_count": null,
   "id": "c9d74b01-e91c-4033-b049-a463f56ccf80",
   "metadata": {},
   "outputs": [],
   "source": [
    "# Bỏ cột là array\n",
    "arrayTypeList = mgTableInfo[mgTableInfo['mongoType'].str[:5] == 'Array']\n",
    "arrayTypeList\n",
    "for index, row in arrayTypeList.iterrows():\n",
    "    print(row['name'])\n",
    "    newDataDF.df = newDataDF.df.drop(row['name'])"
   ]
  },
  {
   "cell_type": "code",
   "execution_count": null,
   "id": "7336e36f-95ed-4397-b5f6-bb1f633f2ba0",
   "metadata": {},
   "outputs": [],
   "source": [
    "# Thêm các cột mới vào ClickHouse table\n",
    "mgTableInfo = mgTableInfo[mgTableInfo.clickhouseType.isnull()]\n",
    "mgTableInfo = mgTableInfo[mgTableInfo['mongoType'] != 'NullType()']\n",
    "mgTableInfo = mgTableInfo[mgTableInfo['mongoType'].str[:5] != 'Array']\n",
    "mgTableInfo\n",
    "mgTableInfo = pd.merge(mgTableInfo,DIM_type,on='mongoType',how='left')\n",
    "mgTableInfo['query'] = f'''ALTER TABLE {chDatabase}.{chTable} ADD COLUMN ''' + mgTableInfo['name'] + \" Nullable(\" + mgTableInfo['type'] + \")\"\n",
    "for index, row in mgTableInfo.iterrows():\n",
    "    client.execute(row['query'])"
   ]
  },
  {
   "cell_type": "code",
   "execution_count": null,
   "id": "c8cbdd6a-3817-4183-a102-a08615779fb0",
   "metadata": {},
   "outputs": [],
   "source": [
    "newDataDF.df.printSchema()"
   ]
  },
  {
   "cell_type": "markdown",
   "id": "6afed9fa-a09a-4152-9d04-20f816f9e977",
   "metadata": {},
   "source": [
    "### CALL Procedure trên Mongo"
   ]
  },
  {
   "cell_type": "code",
   "execution_count": null,
   "id": "a0fd1321-180d-4511-8b87-4e8c289f36dd",
   "metadata": {},
   "outputs": [],
   "source": [
    "# Bắt đầu Sync\n",
    "newDataDF.df.write.format('jdbc').mode('append').options(**clickhouse).save()"
   ]
  },
  {
   "cell_type": "code",
   "execution_count": null,
   "id": "a205f9e1-e122-4927-8d0b-2afcd7063ca3",
   "metadata": {},
   "outputs": [],
   "source": [
    "build_newdata_hoadon_chitiethoadon = {\"Collection\" : \"HoaDon\",\"pipline\" :[\n",
    "            { \"$match\": { \"NgayDongBo\": { \"$gte\": 20220101000000 },\n",
    "                    \"ChiTietDichVu\": { \"$exists\": \"true\" },\n",
    "                    \"ChiTietDichVu._id\": { \"$exists\": \"true\" }\n",
    "                } },\n",
    "            # { \"$sort\": { \"NgayDongBo\": 1 } },\n",
    "            # {\"$limit\": 100000},\n",
    "            { \"$lookup\": {\n",
    "                    \"from\": \"DanhMucBenhVien\",\n",
    "                    \"localField\": \"MaCSKCB\",\n",
    "                    \"foreignField\": \"MaBenhVien\",\n",
    "                    \"as\": \"CSKCB\",\n",
    "                } },\n",
    "            { \"$unwind\": \"$ChiTietDichVu\" },\n",
    "            { \"$project\": {\n",
    "                    \"ThongTinHoaDonId\": { \"$toString\": \"$_id\" },\n",
    "                    \"NgayThu\": 1,\n",
    "                    \"MaKyThuatDungChung\": \"$ChiTietDichVu.MaKyThuatDungChung\",\n",
    "                    \"NgayHuy\": { \"$ifNull\": [ \"$NgayHuy\", None ] } ,\n",
    "                    \"QuanHuyenCSKCB\": { \"$arrayElemAt\": [\"$CSKCB.TenHuyen\", 0] },\n",
    "                    \"_id\": { \"$concat\": [{ \"$toString\": \"$_id\" }, '_', \"$ChiTietDichVu._id\"] },\n",
    "                    \"NgayDongBo1\": {\n",
    "                        \"$cond\": [{ \"$lt\": [\"$NgayDongBo\", 20200101000000] }, None,\n",
    "                            { \"$dateFromString\": { \"dateString\": { \"$toString\": \"$NgayDongBo\" }, \"format\": \"%Y%m%d%H%M%S\", \"timezone\": \"Asia/Ho_Chi_Minh\" } }]\n",
    "                    }\n",
    "                } },\n",
    "    {\"$addFields\": {\"Sign\" : 1}},\n",
    "    {\"$addFields\": {\"Version\" : 1}},\n",
    "    { \"$out\": \"newdata_HoaDon_ChiTietHoaDon\" }\n",
    "    ]}"
   ]
  },
  {
   "cell_type": "code",
   "execution_count": null,
   "id": "18705654-6c3b-4092-8100-6ca2f01b747b",
   "metadata": {},
   "outputs": [],
   "source": [
    "client = pymongo.MongoClient(mgUri)"
   ]
  },
  {
   "cell_type": "code",
   "execution_count": null,
   "id": "966aafa2-75ae-4600-bba4-56bbe0f5381f",
   "metadata": {},
   "outputs": [],
   "source": [
    "ListBuild = [build_newdata_hoadon_chitiethoadon,]"
   ]
  },
  {
   "cell_type": "code",
   "execution_count": null,
   "id": "89bcdb9a-256d-4a80-aced-c75aa6573395",
   "metadata": {},
   "outputs": [],
   "source": [
    "for input in ListBuild:\n",
    "    print(input['Collection'])\n",
    "    Collection = client['phutho'][input['Collection']]\n",
    "    Collection.aggregate(input['pipline'])\n",
    "    print(\"Done\")"
   ]
  }
 ],
 "metadata": {
  "kernelspec": {
   "display_name": "Python 3",
   "language": "python",
   "name": "python3"
  },
  "language_info": {
   "codemirror_mode": {
    "name": "ipython",
    "version": 3
   },
   "file_extension": ".py",
   "mimetype": "text/x-python",
   "name": "python",
   "nbconvert_exporter": "python",
   "pygments_lexer": "ipython3",
   "version": "3.10.9 (tags/v3.10.9:1dd9be6, Dec  6 2022, 20:01:21) [MSC v.1934 64 bit (AMD64)]"
  },
  "vscode": {
   "interpreter": {
    "hash": "58dbfdb34cf82127b32c5737e6183911655ff227e5c11e8f5e4b25048ae98ef2"
   }
  }
 },
 "nbformat": 4,
 "nbformat_minor": 5
}
